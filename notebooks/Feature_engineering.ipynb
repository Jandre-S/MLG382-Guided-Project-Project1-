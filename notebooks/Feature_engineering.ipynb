{
 "cells": [
  {
   "cell_type": "code",
   "execution_count": null,
   "metadata": {},
   "outputs": [],
   "source": [
    "\n",
    "import warnings \n",
    "warnings.simplefilter(\"ignore\",category=FutureWarning)\n",
    "import pandas as pd\n",
    "import math\n",
    "from sklearn.impute import SimpleImputer\n",
    "from sklearn.preprocessing import MinMaxScaler\n",
    "from sklearn.preprocessing import StandardScaler\n",
    "rdf = pd.read_csv('')#requires cleaned data with no missing values\n",
    "rdf.info()"
   ]
  },
  {
   "cell_type": "code",
   "execution_count": null,
   "metadata": {},
   "outputs": [],
   "source": [
    "#normalization\n",
    "mn_mx_Scaler =MinMaxScaler()\n",
    "normalized_df = mn_mx_Scaler.fit_transform(rdf)\n",
    "normalized_df = pd.DataFrame(normalized_df, columns =rdf.columns)\n",
    "print(\"Normalized data\")\n",
    "print(normalized_df)"
   ]
  },
  {
   "cell_type": "code",
   "execution_count": null,
   "metadata": {},
   "outputs": [],
   "source": [
    "#Standardization\n",
    "standard_Scaler =StandardScaler()\n",
    "starndard_df = standard_Scaler.fit_transform(rdf)#input DF\n",
    "starndard_df = pd.DataFrame(starndard_df, columns =rdf.columns)\n",
    "print(\"Starndardized data\")\n",
    "print(starndard_df)"
   ]
  },
  {
   "cell_type": "code",
   "execution_count": null,
   "metadata": {},
   "outputs": [],
   "source": []
  }
 ],
 "metadata": {
  "kernelspec": {
   "display_name": "mlg-382-class",
   "language": "python",
   "name": "python3"
  },
  "language_info": {
   "codemirror_mode": {
    "name": "ipython",
    "version": 3
   },
   "file_extension": ".py",
   "mimetype": "text/x-python",
   "name": "python",
   "nbconvert_exporter": "python",
   "pygments_lexer": "ipython3",
   "version": "3.12.3"
  }
 },
 "nbformat": 4,
 "nbformat_minor": 2
}

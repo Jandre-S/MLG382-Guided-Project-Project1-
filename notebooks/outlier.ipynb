{
 "cells": [
  {
   "cell_type": "code",
   "execution_count": null,
   "metadata": {},
   "outputs": [],
   "source": [
    "# Create a distribution plot using Seaborn\n",
    "out_columns = [\"ApplicantIncome\",\"CoapplicantIncome\",\"LoanAmount\"]\n",
    "for x in range(0,3):\n",
    "    sns.set(style=\"whitegrid\")\n",
    "    plt.figure(figsize=(15, 8))\n",
    "    sns.displot(df2[out_columns[x]], kde=True, color=\"blue\")"
   ]
  },
  {
   "cell_type": "code",
   "execution_count": null,
   "metadata": {},
   "outputs": [],
   "source": [
    "#scatter plots\n",
    "out_columns2 = [\"ApplicantIncome\",\"CoapplicantIncome\"]\n",
    "for x in range(0,2):\n",
    "    fig, ax = plt.subplots(figsize=(6, 4))\n",
    "    ax.scatter(df2[out_columns[x]], df2['LoanAmount'])\n",
    "    ax.set_xlabel(f'({out_columns[x]} index of people)')\n",
    "    ax.set_ylabel('(The Loan Amount)')\n",
    "    plt.show()"
   ]
  },
  {
   "cell_type": "code",
   "execution_count": null,
   "metadata": {},
   "outputs": [],
   "source": [
    "#removal of outliers\n",
    "def removal_box_plot(df, column, threshold):\n",
    "    sns.boxplot(df[column])\n",
    "    plt.title(f'Original Box Plot of {column}')\n",
    "    plt.show()\n",
    "\n",
    "    removed_outliers = df[df[column]<df[column].quantile(threshold)]\n",
    "\n",
    "    sns.boxplot(removed_outliers[column])\n",
    "    plt.title(f'Box Plot without Outliers of {column}')\n",
    "    plt.show()\n",
    "    return removed_outliers\n",
    "\n",
    "threshold_value =  0.9\n",
    "\n",
    "for x in range(0,3):\n",
    "    no_outliers = removal_box_plot(df2, out_columns[x], threshold_value)"
   ]
  }
 ],
 "metadata": {
  "kernelspec": {
   "display_name": "MLG382",
   "language": "python",
   "name": "python3"
  },
  "language_info": {
   "name": "python",
   "version": "3.12.3"
  }
 },
 "nbformat": 4,
 "nbformat_minor": 2
}
